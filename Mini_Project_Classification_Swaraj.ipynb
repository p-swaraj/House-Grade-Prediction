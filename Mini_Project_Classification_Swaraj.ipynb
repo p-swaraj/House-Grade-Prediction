{
 "cells": [
  {
   "cell_type": "code",
   "execution_count": 2,
   "id": "970cf523",
   "metadata": {},
   "outputs": [],
   "source": [
    "# general imports\n",
    "import pandas as pd\n",
    "import numpy as np\n",
    "import seaborn as sns\n",
    "import matplotlib.pyplot as plt\n",
    "\n",
    "from jupyterthemes import jtplot  \n",
    "jtplot.style(theme='grade3',grid=False)\n",
    "\n",
    "from sklearn.preprocessing import StandardScaler, MinMaxScaler,LabelBinarizer\n",
    "from sklearn.metrics import confusion_matrix,accuracy_score,classification_report\n",
    "from sklearn.model_selection import cross_val_score,cross_val_predict,train_test_split,GridSearchCV\n",
    "from sklearn.neighbors import KNeighborsClassifier\n",
    "from sklearn.naive_bayes import GaussianNB\n",
    "from sklearn.tree import DecisionTreeClassifier\n",
    "from sklearn.svm import SVC\n",
    "from sklearn.ensemble import RandomForestClassifier\n",
    "\n",
    "import warnings\n",
    "warnings.simplefilter(action='ignore')"
   ]
  },
  {
   "cell_type": "code",
   "execution_count": 3,
   "id": "ab3862ac",
   "metadata": {},
   "outputs": [
    {
     "data": {
      "text/plain": [
       "Id                0\n",
       "Area(total)       0\n",
       "Trooms            0\n",
       "Nbedrooms         0\n",
       "Nbwashrooms       0\n",
       "Twashrooms        0\n",
       "roof              0\n",
       "Roof(Area)        0\n",
       "Lawn(Area)        0\n",
       "Nfloors           0\n",
       "API               0\n",
       "ANB               0\n",
       "Expected price    0\n",
       "Grade             0\n",
       "dtype: int64"
      ]
     },
     "execution_count": 3,
     "metadata": {},
     "output_type": "execute_result"
    }
   ],
   "source": [
    "df_full = pd.read_csv(\"DS3_C6_S2_Classification_HouseGrade_Data_Project.csv\")\n",
    "df_full.isna().sum()"
   ]
  },
  {
   "cell_type": "code",
   "execution_count": 4,
   "id": "2efc4e4b",
   "metadata": {},
   "outputs": [
    {
     "data": {
      "text/html": [
       "<div>\n",
       "<style scoped>\n",
       "    .dataframe tbody tr th:only-of-type {\n",
       "        vertical-align: middle;\n",
       "    }\n",
       "\n",
       "    .dataframe tbody tr th {\n",
       "        vertical-align: top;\n",
       "    }\n",
       "\n",
       "    .dataframe thead th {\n",
       "        text-align: right;\n",
       "    }\n",
       "</style>\n",
       "<table border=\"1\" class=\"dataframe\">\n",
       "  <thead>\n",
       "    <tr style=\"text-align: right;\">\n",
       "      <th></th>\n",
       "      <th>Id</th>\n",
       "      <th>Area(total)</th>\n",
       "      <th>Trooms</th>\n",
       "      <th>Nbedrooms</th>\n",
       "      <th>Nbwashrooms</th>\n",
       "      <th>Twashrooms</th>\n",
       "      <th>roof</th>\n",
       "      <th>Roof(Area)</th>\n",
       "      <th>Lawn(Area)</th>\n",
       "      <th>Nfloors</th>\n",
       "      <th>API</th>\n",
       "      <th>ANB</th>\n",
       "      <th>Expected price</th>\n",
       "      <th>Grade</th>\n",
       "    </tr>\n",
       "  </thead>\n",
       "  <tbody>\n",
       "    <tr>\n",
       "      <th>0</th>\n",
       "      <td>1</td>\n",
       "      <td>339</td>\n",
       "      <td>6</td>\n",
       "      <td>5</td>\n",
       "      <td>4</td>\n",
       "      <td>6</td>\n",
       "      <td>NO</td>\n",
       "      <td>0</td>\n",
       "      <td>76</td>\n",
       "      <td>2</td>\n",
       "      <td>79</td>\n",
       "      <td>6</td>\n",
       "      <td>3481</td>\n",
       "      <td>D</td>\n",
       "    </tr>\n",
       "    <tr>\n",
       "      <th>1</th>\n",
       "      <td>2</td>\n",
       "      <td>358</td>\n",
       "      <td>5</td>\n",
       "      <td>4</td>\n",
       "      <td>3</td>\n",
       "      <td>4</td>\n",
       "      <td>YES</td>\n",
       "      <td>71</td>\n",
       "      <td>96</td>\n",
       "      <td>3</td>\n",
       "      <td>72</td>\n",
       "      <td>4</td>\n",
       "      <td>3510</td>\n",
       "      <td>D</td>\n",
       "    </tr>\n",
       "    <tr>\n",
       "      <th>2</th>\n",
       "      <td>3</td>\n",
       "      <td>324</td>\n",
       "      <td>7</td>\n",
       "      <td>5</td>\n",
       "      <td>4</td>\n",
       "      <td>5</td>\n",
       "      <td>YES</td>\n",
       "      <td>101</td>\n",
       "      <td>117</td>\n",
       "      <td>5</td>\n",
       "      <td>64</td>\n",
       "      <td>3</td>\n",
       "      <td>3748</td>\n",
       "      <td>C</td>\n",
       "    </tr>\n",
       "    <tr>\n",
       "      <th>3</th>\n",
       "      <td>4</td>\n",
       "      <td>330</td>\n",
       "      <td>6</td>\n",
       "      <td>4</td>\n",
       "      <td>3</td>\n",
       "      <td>5</td>\n",
       "      <td>YES</td>\n",
       "      <td>101</td>\n",
       "      <td>82</td>\n",
       "      <td>2</td>\n",
       "      <td>59</td>\n",
       "      <td>2</td>\n",
       "      <td>3134</td>\n",
       "      <td>D</td>\n",
       "    </tr>\n",
       "    <tr>\n",
       "      <th>4</th>\n",
       "      <td>5</td>\n",
       "      <td>320</td>\n",
       "      <td>7</td>\n",
       "      <td>4</td>\n",
       "      <td>4</td>\n",
       "      <td>5</td>\n",
       "      <td>NO</td>\n",
       "      <td>0</td>\n",
       "      <td>75</td>\n",
       "      <td>3</td>\n",
       "      <td>40</td>\n",
       "      <td>1</td>\n",
       "      <td>3843</td>\n",
       "      <td>D</td>\n",
       "    </tr>\n",
       "    <tr>\n",
       "      <th>...</th>\n",
       "      <td>...</td>\n",
       "      <td>...</td>\n",
       "      <td>...</td>\n",
       "      <td>...</td>\n",
       "      <td>...</td>\n",
       "      <td>...</td>\n",
       "      <td>...</td>\n",
       "      <td>...</td>\n",
       "      <td>...</td>\n",
       "      <td>...</td>\n",
       "      <td>...</td>\n",
       "      <td>...</td>\n",
       "      <td>...</td>\n",
       "      <td>...</td>\n",
       "    </tr>\n",
       "    <tr>\n",
       "      <th>2995</th>\n",
       "      <td>2996</td>\n",
       "      <td>341</td>\n",
       "      <td>9</td>\n",
       "      <td>6</td>\n",
       "      <td>5</td>\n",
       "      <td>7</td>\n",
       "      <td>YES</td>\n",
       "      <td>95</td>\n",
       "      <td>115</td>\n",
       "      <td>5</td>\n",
       "      <td>90</td>\n",
       "      <td>2</td>\n",
       "      <td>4246</td>\n",
       "      <td>B</td>\n",
       "    </tr>\n",
       "    <tr>\n",
       "      <th>2996</th>\n",
       "      <td>2997</td>\n",
       "      <td>292</td>\n",
       "      <td>9</td>\n",
       "      <td>8</td>\n",
       "      <td>7</td>\n",
       "      <td>8</td>\n",
       "      <td>YES</td>\n",
       "      <td>116</td>\n",
       "      <td>87</td>\n",
       "      <td>7</td>\n",
       "      <td>97</td>\n",
       "      <td>4</td>\n",
       "      <td>3753</td>\n",
       "      <td>A</td>\n",
       "    </tr>\n",
       "    <tr>\n",
       "      <th>2997</th>\n",
       "      <td>2998</td>\n",
       "      <td>328</td>\n",
       "      <td>7</td>\n",
       "      <td>4</td>\n",
       "      <td>3</td>\n",
       "      <td>5</td>\n",
       "      <td>NO</td>\n",
       "      <td>0</td>\n",
       "      <td>78</td>\n",
       "      <td>5</td>\n",
       "      <td>95</td>\n",
       "      <td>6</td>\n",
       "      <td>3607</td>\n",
       "      <td>D</td>\n",
       "    </tr>\n",
       "    <tr>\n",
       "      <th>2998</th>\n",
       "      <td>2999</td>\n",
       "      <td>293</td>\n",
       "      <td>9</td>\n",
       "      <td>7</td>\n",
       "      <td>7</td>\n",
       "      <td>8</td>\n",
       "      <td>NO</td>\n",
       "      <td>0</td>\n",
       "      <td>78</td>\n",
       "      <td>7</td>\n",
       "      <td>51</td>\n",
       "      <td>3</td>\n",
       "      <td>4198</td>\n",
       "      <td>B</td>\n",
       "    </tr>\n",
       "    <tr>\n",
       "      <th>2999</th>\n",
       "      <td>3000</td>\n",
       "      <td>343</td>\n",
       "      <td>7</td>\n",
       "      <td>6</td>\n",
       "      <td>6</td>\n",
       "      <td>8</td>\n",
       "      <td>NO</td>\n",
       "      <td>0</td>\n",
       "      <td>108</td>\n",
       "      <td>5</td>\n",
       "      <td>95</td>\n",
       "      <td>3</td>\n",
       "      <td>4105</td>\n",
       "      <td>C</td>\n",
       "    </tr>\n",
       "  </tbody>\n",
       "</table>\n",
       "<p>3000 rows × 14 columns</p>\n",
       "</div>"
      ],
      "text/plain": [
       "        Id  Area(total)  Trooms  Nbedrooms  Nbwashrooms  Twashrooms roof  \\\n",
       "0        1          339       6          5            4           6   NO   \n",
       "1        2          358       5          4            3           4  YES   \n",
       "2        3          324       7          5            4           5  YES   \n",
       "3        4          330       6          4            3           5  YES   \n",
       "4        5          320       7          4            4           5   NO   \n",
       "...    ...          ...     ...        ...          ...         ...  ...   \n",
       "2995  2996          341       9          6            5           7  YES   \n",
       "2996  2997          292       9          8            7           8  YES   \n",
       "2997  2998          328       7          4            3           5   NO   \n",
       "2998  2999          293       9          7            7           8   NO   \n",
       "2999  3000          343       7          6            6           8   NO   \n",
       "\n",
       "      Roof(Area)  Lawn(Area)  Nfloors  API  ANB  Expected price Grade  \n",
       "0              0          76        2   79    6            3481     D  \n",
       "1             71          96        3   72    4            3510     D  \n",
       "2            101         117        5   64    3            3748     C  \n",
       "3            101          82        2   59    2            3134     D  \n",
       "4              0          75        3   40    1            3843     D  \n",
       "...          ...         ...      ...  ...  ...             ...   ...  \n",
       "2995          95         115        5   90    2            4246     B  \n",
       "2996         116          87        7   97    4            3753     A  \n",
       "2997           0          78        5   95    6            3607     D  \n",
       "2998           0          78        7   51    3            4198     B  \n",
       "2999           0         108        5   95    3            4105     C  \n",
       "\n",
       "[3000 rows x 14 columns]"
      ]
     },
     "execution_count": 4,
     "metadata": {},
     "output_type": "execute_result"
    }
   ],
   "source": [
    "df_full"
   ]
  },
  {
   "cell_type": "code",
   "execution_count": 5,
   "id": "6d6863d2",
   "metadata": {},
   "outputs": [],
   "source": [
    "lb = LabelBinarizer()\n",
    "df_full[\"roof\"]=lb.fit_transform(df_full[\"roof\"])"
   ]
  },
  {
   "cell_type": "code",
   "execution_count": 5,
   "id": "1298e3a0",
   "metadata": {
    "scrolled": true
   },
   "outputs": [
    {
     "data": {
      "text/html": [
       "<div>\n",
       "<style scoped>\n",
       "    .dataframe tbody tr th:only-of-type {\n",
       "        vertical-align: middle;\n",
       "    }\n",
       "\n",
       "    .dataframe tbody tr th {\n",
       "        vertical-align: top;\n",
       "    }\n",
       "\n",
       "    .dataframe thead th {\n",
       "        text-align: right;\n",
       "    }\n",
       "</style>\n",
       "<table border=\"1\" class=\"dataframe\">\n",
       "  <thead>\n",
       "    <tr style=\"text-align: right;\">\n",
       "      <th></th>\n",
       "      <th>Id</th>\n",
       "      <th>Area(total)</th>\n",
       "      <th>Trooms</th>\n",
       "      <th>Nbedrooms</th>\n",
       "      <th>Nbwashrooms</th>\n",
       "      <th>Twashrooms</th>\n",
       "      <th>roof</th>\n",
       "      <th>Roof(Area)</th>\n",
       "      <th>Lawn(Area)</th>\n",
       "      <th>Nfloors</th>\n",
       "      <th>API</th>\n",
       "      <th>ANB</th>\n",
       "      <th>Expected price</th>\n",
       "      <th>Grade</th>\n",
       "    </tr>\n",
       "  </thead>\n",
       "  <tbody>\n",
       "    <tr>\n",
       "      <th>0</th>\n",
       "      <td>1</td>\n",
       "      <td>339</td>\n",
       "      <td>6</td>\n",
       "      <td>5</td>\n",
       "      <td>4</td>\n",
       "      <td>6</td>\n",
       "      <td>0</td>\n",
       "      <td>0</td>\n",
       "      <td>76</td>\n",
       "      <td>2</td>\n",
       "      <td>79</td>\n",
       "      <td>6</td>\n",
       "      <td>3481</td>\n",
       "      <td>D</td>\n",
       "    </tr>\n",
       "    <tr>\n",
       "      <th>1</th>\n",
       "      <td>2</td>\n",
       "      <td>358</td>\n",
       "      <td>5</td>\n",
       "      <td>4</td>\n",
       "      <td>3</td>\n",
       "      <td>4</td>\n",
       "      <td>1</td>\n",
       "      <td>71</td>\n",
       "      <td>96</td>\n",
       "      <td>3</td>\n",
       "      <td>72</td>\n",
       "      <td>4</td>\n",
       "      <td>3510</td>\n",
       "      <td>D</td>\n",
       "    </tr>\n",
       "    <tr>\n",
       "      <th>2</th>\n",
       "      <td>3</td>\n",
       "      <td>324</td>\n",
       "      <td>7</td>\n",
       "      <td>5</td>\n",
       "      <td>4</td>\n",
       "      <td>5</td>\n",
       "      <td>1</td>\n",
       "      <td>101</td>\n",
       "      <td>117</td>\n",
       "      <td>5</td>\n",
       "      <td>64</td>\n",
       "      <td>3</td>\n",
       "      <td>3748</td>\n",
       "      <td>C</td>\n",
       "    </tr>\n",
       "    <tr>\n",
       "      <th>3</th>\n",
       "      <td>4</td>\n",
       "      <td>330</td>\n",
       "      <td>6</td>\n",
       "      <td>4</td>\n",
       "      <td>3</td>\n",
       "      <td>5</td>\n",
       "      <td>1</td>\n",
       "      <td>101</td>\n",
       "      <td>82</td>\n",
       "      <td>2</td>\n",
       "      <td>59</td>\n",
       "      <td>2</td>\n",
       "      <td>3134</td>\n",
       "      <td>D</td>\n",
       "    </tr>\n",
       "    <tr>\n",
       "      <th>4</th>\n",
       "      <td>5</td>\n",
       "      <td>320</td>\n",
       "      <td>7</td>\n",
       "      <td>4</td>\n",
       "      <td>4</td>\n",
       "      <td>5</td>\n",
       "      <td>0</td>\n",
       "      <td>0</td>\n",
       "      <td>75</td>\n",
       "      <td>3</td>\n",
       "      <td>40</td>\n",
       "      <td>1</td>\n",
       "      <td>3843</td>\n",
       "      <td>D</td>\n",
       "    </tr>\n",
       "    <tr>\n",
       "      <th>...</th>\n",
       "      <td>...</td>\n",
       "      <td>...</td>\n",
       "      <td>...</td>\n",
       "      <td>...</td>\n",
       "      <td>...</td>\n",
       "      <td>...</td>\n",
       "      <td>...</td>\n",
       "      <td>...</td>\n",
       "      <td>...</td>\n",
       "      <td>...</td>\n",
       "      <td>...</td>\n",
       "      <td>...</td>\n",
       "      <td>...</td>\n",
       "      <td>...</td>\n",
       "    </tr>\n",
       "    <tr>\n",
       "      <th>2995</th>\n",
       "      <td>2996</td>\n",
       "      <td>341</td>\n",
       "      <td>9</td>\n",
       "      <td>6</td>\n",
       "      <td>5</td>\n",
       "      <td>7</td>\n",
       "      <td>1</td>\n",
       "      <td>95</td>\n",
       "      <td>115</td>\n",
       "      <td>5</td>\n",
       "      <td>90</td>\n",
       "      <td>2</td>\n",
       "      <td>4246</td>\n",
       "      <td>B</td>\n",
       "    </tr>\n",
       "    <tr>\n",
       "      <th>2996</th>\n",
       "      <td>2997</td>\n",
       "      <td>292</td>\n",
       "      <td>9</td>\n",
       "      <td>8</td>\n",
       "      <td>7</td>\n",
       "      <td>8</td>\n",
       "      <td>1</td>\n",
       "      <td>116</td>\n",
       "      <td>87</td>\n",
       "      <td>7</td>\n",
       "      <td>97</td>\n",
       "      <td>4</td>\n",
       "      <td>3753</td>\n",
       "      <td>A</td>\n",
       "    </tr>\n",
       "    <tr>\n",
       "      <th>2997</th>\n",
       "      <td>2998</td>\n",
       "      <td>328</td>\n",
       "      <td>7</td>\n",
       "      <td>4</td>\n",
       "      <td>3</td>\n",
       "      <td>5</td>\n",
       "      <td>0</td>\n",
       "      <td>0</td>\n",
       "      <td>78</td>\n",
       "      <td>5</td>\n",
       "      <td>95</td>\n",
       "      <td>6</td>\n",
       "      <td>3607</td>\n",
       "      <td>D</td>\n",
       "    </tr>\n",
       "    <tr>\n",
       "      <th>2998</th>\n",
       "      <td>2999</td>\n",
       "      <td>293</td>\n",
       "      <td>9</td>\n",
       "      <td>7</td>\n",
       "      <td>7</td>\n",
       "      <td>8</td>\n",
       "      <td>0</td>\n",
       "      <td>0</td>\n",
       "      <td>78</td>\n",
       "      <td>7</td>\n",
       "      <td>51</td>\n",
       "      <td>3</td>\n",
       "      <td>4198</td>\n",
       "      <td>B</td>\n",
       "    </tr>\n",
       "    <tr>\n",
       "      <th>2999</th>\n",
       "      <td>3000</td>\n",
       "      <td>343</td>\n",
       "      <td>7</td>\n",
       "      <td>6</td>\n",
       "      <td>6</td>\n",
       "      <td>8</td>\n",
       "      <td>0</td>\n",
       "      <td>0</td>\n",
       "      <td>108</td>\n",
       "      <td>5</td>\n",
       "      <td>95</td>\n",
       "      <td>3</td>\n",
       "      <td>4105</td>\n",
       "      <td>C</td>\n",
       "    </tr>\n",
       "  </tbody>\n",
       "</table>\n",
       "<p>3000 rows × 14 columns</p>\n",
       "</div>"
      ],
      "text/plain": [
       "        Id  Area(total)  Trooms  Nbedrooms  Nbwashrooms  Twashrooms  roof  \\\n",
       "0        1          339       6          5            4           6     0   \n",
       "1        2          358       5          4            3           4     1   \n",
       "2        3          324       7          5            4           5     1   \n",
       "3        4          330       6          4            3           5     1   \n",
       "4        5          320       7          4            4           5     0   \n",
       "...    ...          ...     ...        ...          ...         ...   ...   \n",
       "2995  2996          341       9          6            5           7     1   \n",
       "2996  2997          292       9          8            7           8     1   \n",
       "2997  2998          328       7          4            3           5     0   \n",
       "2998  2999          293       9          7            7           8     0   \n",
       "2999  3000          343       7          6            6           8     0   \n",
       "\n",
       "      Roof(Area)  Lawn(Area)  Nfloors  API  ANB  Expected price Grade  \n",
       "0              0          76        2   79    6            3481     D  \n",
       "1             71          96        3   72    4            3510     D  \n",
       "2            101         117        5   64    3            3748     C  \n",
       "3            101          82        2   59    2            3134     D  \n",
       "4              0          75        3   40    1            3843     D  \n",
       "...          ...         ...      ...  ...  ...             ...   ...  \n",
       "2995          95         115        5   90    2            4246     B  \n",
       "2996         116          87        7   97    4            3753     A  \n",
       "2997           0          78        5   95    6            3607     D  \n",
       "2998           0          78        7   51    3            4198     B  \n",
       "2999           0         108        5   95    3            4105     C  \n",
       "\n",
       "[3000 rows x 14 columns]"
      ]
     },
     "execution_count": 5,
     "metadata": {},
     "output_type": "execute_result"
    }
   ],
   "source": [
    "df_full"
   ]
  },
  {
   "cell_type": "code",
   "execution_count": 6,
   "id": "1f2c8cb4",
   "metadata": {
    "scrolled": true
   },
   "outputs": [
    {
     "data": {
      "text/plain": [
       "Id                3000\n",
       "Area(total)         71\n",
       "Trooms               5\n",
       "Nbedrooms            7\n",
       "Nbwashrooms          8\n",
       "Twashrooms           9\n",
       "roof                 2\n",
       "Roof(Area)          52\n",
       "Lawn(Area)          51\n",
       "Nfloors              7\n",
       "API                 61\n",
       "ANB                  6\n",
       "Expected price    1647\n",
       "Grade                5\n",
       "dtype: int64"
      ]
     },
     "execution_count": 6,
     "metadata": {},
     "output_type": "execute_result"
    }
   ],
   "source": [
    "df_full.nunique()"
   ]
  },
  {
   "cell_type": "code",
   "execution_count": 7,
   "id": "458f536a",
   "metadata": {
    "scrolled": true
   },
   "outputs": [
    {
     "data": {
      "image/png": "[encoded data removed]",
      "text/plain": [
       "<Figure size 460.8x403.2 with 1 Axes>"
      ]
     },
     "metadata": {},
     "output_type": "display_data"
    }
   ],
   "source": [
    "sns.barplot(x=\"Grade\",y=\"Expected price\",data=df_full)\n",
    "plt.show()"
   ]
  },
  {
   "cell_type": "markdown",
   "id": "54b6c873",
   "metadata": {},
   "source": [
    "#### We can observe that Grade A properties are priced Highest and Grade D is priced Lowest"
   ]
  },
  {
   "cell_type": "code",
   "execution_count": 8,
   "id": "f630fbaa",
   "metadata": {
    "scrolled": false
   },
   "outputs": [
    {
     "data": {
      "image/png": "[encoded data removed]",
      "text/plain": [
       "<Figure size 460.8x403.2 with 1 Axes>"
      ]
     },
     "metadata": {},
     "output_type": "display_data"
    }
   ],
   "source": [
    "sns.barplot(x=\"Grade\",y=\"API\",data=df_full)\n",
    "plt.show()"
   ]
  },
  {
   "cell_type": "markdown",
   "id": "c53d1734",
   "metadata": {},
   "source": [
    "#### There is no direct relation between GRADE & Air Pollution Index"
   ]
  },
  {
   "cell_type": "code",
   "execution_count": 9,
   "id": "aa0a9c55",
   "metadata": {
    "scrolled": false
   },
   "outputs": [
    {
     "data": {
      "image/png": "[encoded data removed]",
      "text/plain": [
       "<Figure size 460.8x403.2 with 1 Axes>"
      ]
     },
     "metadata": {},
     "output_type": "display_data"
    }
   ],
   "source": [
    "sns.barplot(x=\"Grade\",y=\"ANB\",data=df_full)\n",
    "plt.show()"
   ]
  },
  {
   "cell_type": "markdown",
   "id": "c68d38a9",
   "metadata": {},
   "source": [
    "#### There is no direct relation between GRADE & ANB"
   ]
  },
  {
   "cell_type": "code",
   "execution_count": 10,
   "id": "d2f2aa83",
   "metadata": {
    "scrolled": true
   },
   "outputs": [
    {
     "data": {
      "text/html": [
       "<div>\n",
       "<style scoped>\n",
       "    .dataframe tbody tr th:only-of-type {\n",
       "        vertical-align: middle;\n",
       "    }\n",
       "\n",
       "    .dataframe tbody tr th {\n",
       "        vertical-align: top;\n",
       "    }\n",
       "\n",
       "    .dataframe thead th {\n",
       "        text-align: right;\n",
       "    }\n",
       "</style>\n",
       "<table border=\"1\" class=\"dataframe\">\n",
       "  <thead>\n",
       "    <tr style=\"text-align: right;\">\n",
       "      <th></th>\n",
       "      <th>Area(total)</th>\n",
       "      <th>Trooms</th>\n",
       "      <th>Nbedrooms</th>\n",
       "      <th>Nbwashrooms</th>\n",
       "      <th>Twashrooms</th>\n",
       "      <th>roof</th>\n",
       "      <th>Roof(Area)</th>\n",
       "      <th>Lawn(Area)</th>\n",
       "      <th>Nfloors</th>\n",
       "      <th>API</th>\n",
       "      <th>ANB</th>\n",
       "      <th>Expected price</th>\n",
       "    </tr>\n",
       "  </thead>\n",
       "  <tbody>\n",
       "    <tr>\n",
       "      <th>Area(total)</th>\n",
       "      <td>1.000000</td>\n",
       "      <td>0.019041</td>\n",
       "      <td>0.031328</td>\n",
       "      <td>0.031819</td>\n",
       "      <td>0.038509</td>\n",
       "      <td>0.014229</td>\n",
       "      <td>0.017029</td>\n",
       "      <td>-0.002118</td>\n",
       "      <td>0.016819</td>\n",
       "      <td>-0.000182</td>\n",
       "      <td>-0.010846</td>\n",
       "      <td>0.274507</td>\n",
       "    </tr>\n",
       "    <tr>\n",
       "      <th>Trooms</th>\n",
       "      <td>0.019041</td>\n",
       "      <td>1.000000</td>\n",
       "      <td>0.865878</td>\n",
       "      <td>0.827072</td>\n",
       "      <td>0.794870</td>\n",
       "      <td>0.025142</td>\n",
       "      <td>0.026550</td>\n",
       "      <td>0.009557</td>\n",
       "      <td>0.862367</td>\n",
       "      <td>0.007502</td>\n",
       "      <td>0.007321</td>\n",
       "      <td>0.820170</td>\n",
       "    </tr>\n",
       "    <tr>\n",
       "      <th>Nbedrooms</th>\n",
       "      <td>0.031328</td>\n",
       "      <td>0.865878</td>\n",
       "      <td>1.000000</td>\n",
       "      <td>0.956578</td>\n",
       "      <td>0.919158</td>\n",
       "      <td>0.023058</td>\n",
       "      <td>0.025073</td>\n",
       "      <td>0.000054</td>\n",
       "      <td>0.742132</td>\n",
       "      <td>0.002820</td>\n",
       "      <td>0.015403</td>\n",
       "      <td>0.715687</td>\n",
       "    </tr>\n",
       "    <tr>\n",
       "      <th>Nbwashrooms</th>\n",
       "      <td>0.031819</td>\n",
       "      <td>0.827072</td>\n",
       "      <td>0.956578</td>\n",
       "      <td>1.000000</td>\n",
       "      <td>0.960007</td>\n",
       "      <td>0.028549</td>\n",
       "      <td>0.028832</td>\n",
       "      <td>0.006617</td>\n",
       "      <td>0.711936</td>\n",
       "      <td>0.011413</td>\n",
       "      <td>0.008475</td>\n",
       "      <td>0.683659</td>\n",
       "    </tr>\n",
       "    <tr>\n",
       "      <th>Twashrooms</th>\n",
       "      <td>0.038509</td>\n",
       "      <td>0.794870</td>\n",
       "      <td>0.919158</td>\n",
       "      <td>0.960007</td>\n",
       "      <td>1.000000</td>\n",
       "      <td>0.028212</td>\n",
       "      <td>0.028763</td>\n",
       "      <td>0.008386</td>\n",
       "      <td>0.684966</td>\n",
       "      <td>0.012361</td>\n",
       "      <td>0.016492</td>\n",
       "      <td>0.654627</td>\n",
       "    </tr>\n",
       "    <tr>\n",
       "      <th>roof</th>\n",
       "      <td>0.014229</td>\n",
       "      <td>0.025142</td>\n",
       "      <td>0.023058</td>\n",
       "      <td>0.028549</td>\n",
       "      <td>0.028212</td>\n",
       "      <td>1.000000</td>\n",
       "      <td>0.976561</td>\n",
       "      <td>-0.004640</td>\n",
       "      <td>0.014985</td>\n",
       "      <td>-0.007983</td>\n",
       "      <td>-0.020511</td>\n",
       "      <td>0.007880</td>\n",
       "    </tr>\n",
       "    <tr>\n",
       "      <th>Roof(Area)</th>\n",
       "      <td>0.017029</td>\n",
       "      <td>0.026550</td>\n",
       "      <td>0.025073</td>\n",
       "      <td>0.028832</td>\n",
       "      <td>0.028763</td>\n",
       "      <td>0.976561</td>\n",
       "      <td>1.000000</td>\n",
       "      <td>-0.006831</td>\n",
       "      <td>0.013840</td>\n",
       "      <td>-0.006331</td>\n",
       "      <td>-0.015529</td>\n",
       "      <td>0.009346</td>\n",
       "    </tr>\n",
       "    <tr>\n",
       "      <th>Lawn(Area)</th>\n",
       "      <td>-0.002118</td>\n",
       "      <td>0.009557</td>\n",
       "      <td>0.000054</td>\n",
       "      <td>0.006617</td>\n",
       "      <td>0.008386</td>\n",
       "      <td>-0.004640</td>\n",
       "      <td>-0.006831</td>\n",
       "      <td>1.000000</td>\n",
       "      <td>0.013771</td>\n",
       "      <td>0.011477</td>\n",
       "      <td>0.025751</td>\n",
       "      <td>0.011561</td>\n",
       "    </tr>\n",
       "    <tr>\n",
       "      <th>Nfloors</th>\n",
       "      <td>0.016819</td>\n",
       "      <td>0.862367</td>\n",
       "      <td>0.742132</td>\n",
       "      <td>0.711936</td>\n",
       "      <td>0.684966</td>\n",
       "      <td>0.014985</td>\n",
       "      <td>0.013840</td>\n",
       "      <td>0.013771</td>\n",
       "      <td>1.000000</td>\n",
       "      <td>-0.002255</td>\n",
       "      <td>0.020614</td>\n",
       "      <td>0.714598</td>\n",
       "    </tr>\n",
       "    <tr>\n",
       "      <th>API</th>\n",
       "      <td>-0.000182</td>\n",
       "      <td>0.007502</td>\n",
       "      <td>0.002820</td>\n",
       "      <td>0.011413</td>\n",
       "      <td>0.012361</td>\n",
       "      <td>-0.007983</td>\n",
       "      <td>-0.006331</td>\n",
       "      <td>0.011477</td>\n",
       "      <td>-0.002255</td>\n",
       "      <td>1.000000</td>\n",
       "      <td>-0.025694</td>\n",
       "      <td>0.016575</td>\n",
       "    </tr>\n",
       "    <tr>\n",
       "      <th>ANB</th>\n",
       "      <td>-0.010846</td>\n",
       "      <td>0.007321</td>\n",
       "      <td>0.015403</td>\n",
       "      <td>0.008475</td>\n",
       "      <td>0.016492</td>\n",
       "      <td>-0.020511</td>\n",
       "      <td>-0.015529</td>\n",
       "      <td>0.025751</td>\n",
       "      <td>0.020614</td>\n",
       "      <td>-0.025694</td>\n",
       "      <td>1.000000</td>\n",
       "      <td>0.015583</td>\n",
       "    </tr>\n",
       "    <tr>\n",
       "      <th>Expected price</th>\n",
       "      <td>0.274507</td>\n",
       "      <td>0.820170</td>\n",
       "      <td>0.715687</td>\n",
       "      <td>0.683659</td>\n",
       "      <td>0.654627</td>\n",
       "      <td>0.007880</td>\n",
       "      <td>0.009346</td>\n",
       "      <td>0.011561</td>\n",
       "      <td>0.714598</td>\n",
       "      <td>0.016575</td>\n",
       "      <td>0.015583</td>\n",
       "      <td>1.000000</td>\n",
       "    </tr>\n",
       "  </tbody>\n",
       "</table>\n",
       "</div>"
      ],
      "text/plain": [
       "                Area(total)    Trooms  Nbedrooms  Nbwashrooms  Twashrooms  \\\n",
       "Area(total)        1.000000  0.019041   0.031328     0.031819    0.038509   \n",
       "Trooms             0.019041  1.000000   0.865878     0.827072    0.794870   \n",
       "Nbedrooms          0.031328  0.865878   1.000000     0.956578    0.919158   \n",
       "Nbwashrooms        0.031819  0.827072   0.956578     1.000000    0.960007   \n",
       "Twashrooms         0.038509  0.794870   0.919158     0.960007    1.000000   \n",
       "roof               0.014229  0.025142   0.023058     0.028549    0.028212   \n",
       "Roof(Area)         0.017029  0.026550   0.025073     0.028832    0.028763   \n",
       "Lawn(Area)        -0.002118  0.009557   0.000054     0.006617    0.008386   \n",
       "Nfloors            0.016819  0.862367   0.742132     0.711936    0.684966   \n",
       "API               -0.000182  0.007502   0.002820     0.011413    0.012361   \n",
       "ANB               -0.010846  0.007321   0.015403     0.008475    0.016492   \n",
       "Expected price     0.274507  0.820170   0.715687     0.683659    0.654627   \n",
       "\n",
       "                    roof  Roof(Area)  Lawn(Area)   Nfloors       API  \\\n",
       "Area(total)     0.014229    0.017029   -0.002118  0.016819 -0.000182   \n",
       "Trooms          0.025142    0.026550    0.009557  0.862367  0.007502   \n",
       "Nbedrooms       0.023058    0.025073    0.000054  0.742132  0.002820   \n",
       "Nbwashrooms     0.028549    0.028832    0.006617  0.711936  0.011413   \n",
       "Twashrooms      0.028212    0.028763    0.008386  0.684966  0.012361   \n",
       "roof            1.000000    0.976561   -0.004640  0.014985 -0.007983   \n",
       "Roof(Area)      0.976561    1.000000   -0.006831  0.013840 -0.006331   \n",
       "Lawn(Area)     -0.004640   -0.006831    1.000000  0.013771  0.011477   \n",
       "Nfloors         0.014985    0.013840    0.013771  1.000000 -0.002255   \n",
       "API            -0.007983   -0.006331    0.011477 -0.002255  1.000000   \n",
       "ANB            -0.020511   -0.015529    0.025751  0.020614 -0.025694   \n",
       "Expected price  0.007880    0.009346    0.011561  0.714598  0.016575   \n",
       "\n",
       "                     ANB  Expected price  \n",
       "Area(total)    -0.010846        0.274507  \n",
       "Trooms          0.007321        0.820170  \n",
       "Nbedrooms       0.015403        0.715687  \n",
       "Nbwashrooms     0.008475        0.683659  \n",
       "Twashrooms      0.016492        0.654627  \n",
       "roof           -0.020511        0.007880  \n",
       "Roof(Area)     -0.015529        0.009346  \n",
       "Lawn(Area)      0.025751        0.011561  \n",
       "Nfloors         0.020614        0.714598  \n",
       "API            -0.025694        0.016575  \n",
       "ANB             1.000000        0.015583  \n",
       "Expected price  0.015583        1.000000  "
      ]
     },
     "execution_count": 10,
     "metadata": {},
     "output_type": "execute_result"
    }
   ],
   "source": [
    "df_full.drop(\"Id\",axis=1).corr()"
   ]
  },
  {
   "cell_type": "markdown",
   "id": "4109ad58",
   "metadata": {},
   "source": [
    "#### For further Modelling we can drop features namely **Id,API,ANB** as they don't have any significant effect on the Target feature GRADE"
   ]
  },
  {
   "cell_type": "code",
   "execution_count": 6,
   "id": "92ebb0e8",
   "metadata": {},
   "outputs": [],
   "source": [
    "#Creating a function for  checki9ng thge model performance\n",
    "def model_performance(model):\n",
    "    # accuracy on X_test\n",
    "    accuracy = round(model.score(X_test, y_test)*100,2)\n",
    "    print(f\"The accuracy of {model} is {accuracy} %\\n\")\n",
    "    \n",
    "    #creating a confusion matrix\n",
    "    y_pred = model.predict(X_test)\n",
    "    print(classification_report(y_test, y_pred))\n",
    "    cm = confusion_matrix(y_test, y_pred)\n",
    "    cmd = pd.DataFrame(cm)\n",
    "    cmd.rename(columns={0:\"A\",1:\"B\",2:\"C\",3:\"D\",4:\"E\"}, \n",
    "           index = {0:\"A\",1:\"B\",2:\"C\",3:\"D\",4:\"E\"},\n",
    "           inplace = True)\n",
    "    sns.heatmap(cmd,annot = True,fmt=\"g\")\n",
    "    plt.xlabel('Predicted')\n",
    "    plt.ylabel('Truth')\n",
    "    plt.show()\n",
    "    return accuracy , y_pred"
   ]
  },
  {
   "cell_type": "markdown",
   "id": "c2e13d38",
   "metadata": {},
   "source": [
    "###### Selecting required features and spliting the data into train and test split"
   ]
  },
  {
   "cell_type": "code",
   "execution_count": 7,
   "id": "08fb99b7",
   "metadata": {},
   "outputs": [],
   "source": [
    "X = df_full.drop([\"Id\",\"Grade\",\"API\",\"ANB\"], axis=1)\n",
    "y = df_full[\"Grade\"]\n",
    "X_train, X_test, y_train, y_test = train_test_split(X, y, test_size = .20,random_state = 42)"
   ]
  },
  {
   "cell_type": "code",
   "execution_count": 13,
   "id": "ed76466c",
   "metadata": {},
   "outputs": [
    {
     "name": "stdout",
     "output_type": "stream",
     "text": [
      "KNeighborsClassifier(n_neighbors=7)\n"
     ]
    }
   ],
   "source": [
    "#testing best estimator for knn model\n",
    "param_grid = {'n_neighbors': [3,4,5,6,7,8,9,10]}\n",
    "grid_rdf = GridSearchCV(KNeighborsClassifier(), param_grid, cv=5)\n",
    "grid_rdf.fit(X_train, y_train)\n",
    "a=grid_rdf.best_estimator_\n",
    "print(a)"
   ]
  },
  {
   "cell_type": "code",
   "execution_count": 14,
   "id": "7a3258c6",
   "metadata": {},
   "outputs": [
    {
     "name": "stdout",
     "output_type": "stream",
     "text": [
      "The accuracy of KNeighborsClassifier(n_neighbors=7) is 58.5 %\n",
      "\n",
      "              precision    recall  f1-score   support\n",
      "\n",
      "           A       0.44      0.48      0.46        87\n",
      "           B       0.34      0.32      0.33       106\n",
      "           C       0.39      0.37      0.38       125\n",
      "           D       0.80      0.83      0.82       272\n",
      "           E       1.00      0.20      0.33        10\n",
      "\n",
      "    accuracy                           0.58       600\n",
      "   macro avg       0.59      0.44      0.46       600\n",
      "weighted avg       0.58      0.58      0.58       600\n",
      "\n"
     ]
    },
    {
     "data": {
      "image/png": "[encoded data removed]",
      "text/plain": [
       "<Figure size 460.8x403.2 with 2 Axes>"
      ]
     },
     "metadata": {},
     "output_type": "display_data"
    }
   ],
   "source": [
    "# training a KNN classifier\n",
    "knn = KNeighborsClassifier(n_neighbors = 7).fit(X_train, y_train)\n",
    "knn_accuracy,kn_pred = model_performance(knn)"
   ]
  },
  {
   "cell_type": "markdown",
   "id": "317ac9d7",
   "metadata": {},
   "source": [
    "###### We can observe that accuracy is 56.33 % , which is quite low .\n",
    "###### Also many properties have been misclassified."
   ]
  },
  {
   "cell_type": "code",
   "execution_count": 15,
   "id": "92c264bc",
   "metadata": {},
   "outputs": [
    {
     "name": "stdout",
     "output_type": "stream",
     "text": [
      "The accuracy of DecisionTreeClassifier(max_depth=2) is 74.0 %\n",
      "\n",
      "              precision    recall  f1-score   support\n",
      "\n",
      "           A       0.98      0.61      0.75        87\n",
      "           B       0.54      0.97      0.70       106\n",
      "           C       0.58      0.51      0.54       125\n",
      "           D       0.91      0.82      0.86       272\n",
      "           E       0.00      0.00      0.00        10\n",
      "\n",
      "    accuracy                           0.74       600\n",
      "   macro avg       0.60      0.58      0.57       600\n",
      "weighted avg       0.77      0.74      0.74       600\n",
      "\n"
     ]
    },
    {
     "data": {
      "image/png": "[encoded data removed]",
      "text/plain": [
       "<Figure size 460.8x403.2 with 2 Axes>"
      ]
     },
     "metadata": {},
     "output_type": "display_data"
    }
   ],
   "source": [
    "# training a DescisionTreeClassifier\n",
    "dtree = DecisionTreeClassifier(max_depth = 2).fit(X_train, y_train)\n",
    "dtree_accuracy,dtree_pred = model_performance(dtree)"
   ]
  },
  {
   "cell_type": "code",
   "execution_count": 16,
   "id": "458d880e",
   "metadata": {},
   "outputs": [
    {
     "name": "stdout",
     "output_type": "stream",
     "text": [
      "The accuracy of GaussianNB() is 80.67 %\n",
      "\n",
      "              precision    recall  f1-score   support\n",
      "\n",
      "           A       0.90      0.86      0.88        87\n",
      "           B       0.70      0.83      0.76       106\n",
      "           C       0.69      0.67      0.68       125\n",
      "           D       0.93      0.84      0.88       272\n",
      "           E       0.35      0.80      0.48        10\n",
      "\n",
      "    accuracy                           0.81       600\n",
      "   macro avg       0.71      0.80      0.74       600\n",
      "weighted avg       0.83      0.81      0.81       600\n",
      "\n"
     ]
    },
    {
     "data": {
      "image/png": "[encoded data removed]",
      "text/plain": [
       "<Figure size 460.8x403.2 with 2 Axes>"
      ]
     },
     "metadata": {},
     "output_type": "display_data"
    }
   ],
   "source": [
    "# training a Gaussian Naive Bayes classifier\n",
    "gnb = GaussianNB().fit(X_train, y_train)\n",
    "gnb_accuracy,gnb_pred = model_performance(gnb)"
   ]
  },
  {
   "cell_type": "code",
   "execution_count": 18,
   "id": "cb75b2bd",
   "metadata": {},
   "outputs": [
    {
     "data": {
      "text/plain": [
       "{'max_depth': 11, 'n_estimators': 500}"
      ]
     },
     "execution_count": 18,
     "metadata": {},
     "output_type": "execute_result"
    }
   ],
   "source": [
    "#testing best estimator for knn model\n",
    "param_grid = {'max_depth': [6,7,8,9,10,11,12],'n_estimators': [100,200,500,1000,1200]}\n",
    "grid_rdf = GridSearchCV(RandomForestClassifier(), param_grid, cv=5)\n",
    "grid_rdf.fit(X_train, y_train)\n",
    "grid_rdf.best_params_"
   ]
  },
  {
   "cell_type": "code",
   "execution_count": 8,
   "id": "964ede2e",
   "metadata": {
    "scrolled": false
   },
   "outputs": [
    {
     "name": "stdout",
     "output_type": "stream",
     "text": [
      "The accuracy of RandomForestClassifier(max_depth=11, n_estimators=500) is 90.33 %\n",
      "\n",
      "              precision    recall  f1-score   support\n",
      "\n",
      "           A       0.94      0.87      0.90        87\n",
      "           B       0.84      0.84      0.84       106\n",
      "           C       0.85      0.89      0.87       125\n",
      "           D       0.95      0.96      0.96       272\n",
      "           E       0.67      0.40      0.50        10\n",
      "\n",
      "    accuracy                           0.90       600\n",
      "   macro avg       0.85      0.79      0.81       600\n",
      "weighted avg       0.90      0.90      0.90       600\n",
      "\n"
     ]
    },
    {
     "data": {
      "image/png": "[encoded data removed]",
      "text/plain": [
       "<Figure size 460.8x403.2 with 2 Axes>"
      ]
     },
     "metadata": {},
     "output_type": "display_data"
    }
   ],
   "source": [
    "# training a Support Vector Machine classifier\n",
    "rf = RandomForestClassifier(n_estimators=500,max_depth=11).fit(X_train, y_train)\n",
    "rf_accuracy,rf_pred = model_performance(rf)"
   ]
  },
  {
   "cell_type": "markdown",
   "id": "a96098f4",
   "metadata": {},
   "source": [
    "###### Accruracy is 90% which is quite Good"
   ]
  },
  {
   "cell_type": "code",
   "execution_count": 20,
   "id": "36770235",
   "metadata": {},
   "outputs": [
    {
     "name": "stdout",
     "output_type": "stream",
     "text": [
      "The accuracy of SVC(C=2, kernel='linear') is 91.0 %\n",
      "\n",
      "              precision    recall  f1-score   support\n",
      "\n",
      "           A       0.95      0.92      0.94        87\n",
      "           B       0.88      0.88      0.88       106\n",
      "           C       0.84      0.90      0.87       125\n",
      "           D       0.96      0.93      0.95       272\n",
      "           E       0.55      0.60      0.57        10\n",
      "\n",
      "    accuracy                           0.91       600\n",
      "   macro avg       0.83      0.85      0.84       600\n",
      "weighted avg       0.91      0.91      0.91       600\n",
      "\n"
     ]
    },
    {
     "data": {
      "image/png": "[encoded data removed]",
      "text/plain": [
       "<Figure size 460.8x403.2 with 2 Axes>"
      ]
     },
     "metadata": {},
     "output_type": "display_data"
    }
   ],
   "source": [
    "# training a Support Vector Machine classifier\n",
    "svm_linear = SVC(kernel = 'linear', C = 2).fit(X_train, y_train)\n",
    "svm_linear_accuracy,svm_linear_pred = model_performance(svm_linear)"
   ]
  },
  {
   "cell_type": "markdown",
   "id": "8c355849",
   "metadata": {},
   "source": [
    "###### Grades A,B,C,E are better classfied in the SVM Model"
   ]
  },
  {
   "cell_type": "markdown",
   "id": "2a5d4f0c",
   "metadata": {},
   "source": [
    "## We can observe that both RandomForest and SVM Model gives us highest accuracy among all the models we have tested so far\n",
    "## If we see Grade-wise A,B,C,E are better classified by SVM model while for Grade D we get more accurate results by RandomForest Model"
   ]
  },
  {
   "cell_type": "code",
   "execution_count": 26,
   "id": "69180fa4",
   "metadata": {},
   "outputs": [
    {
     "data": {
      "text/html": [
       "<div>\n",
       "<style scoped>\n",
       "    .dataframe tbody tr th:only-of-type {\n",
       "        vertical-align: middle;\n",
       "    }\n",
       "\n",
       "    .dataframe tbody tr th {\n",
       "        vertical-align: top;\n",
       "    }\n",
       "\n",
       "    .dataframe thead th {\n",
       "        text-align: right;\n",
       "    }\n",
       "</style>\n",
       "<table border=\"1\" class=\"dataframe\">\n",
       "  <thead>\n",
       "    <tr style=\"text-align: right;\">\n",
       "      <th></th>\n",
       "      <th>Area(total)</th>\n",
       "      <th>Trooms</th>\n",
       "      <th>Nbedrooms</th>\n",
       "      <th>Nbwashrooms</th>\n",
       "      <th>Twashrooms</th>\n",
       "      <th>roof</th>\n",
       "      <th>Roof(Area)</th>\n",
       "      <th>Lawn(Area)</th>\n",
       "      <th>Nfloors</th>\n",
       "      <th>Expected price</th>\n",
       "      <th>Actual Grade</th>\n",
       "      <th>Predicted Grade</th>\n",
       "    </tr>\n",
       "  </thead>\n",
       "  <tbody>\n",
       "    <tr>\n",
       "      <th>1801</th>\n",
       "      <td>350</td>\n",
       "      <td>7</td>\n",
       "      <td>6</td>\n",
       "      <td>5</td>\n",
       "      <td>7</td>\n",
       "      <td>0</td>\n",
       "      <td>0</td>\n",
       "      <td>110</td>\n",
       "      <td>5</td>\n",
       "      <td>4115</td>\n",
       "      <td>C</td>\n",
       "      <td>C</td>\n",
       "    </tr>\n",
       "    <tr>\n",
       "      <th>1190</th>\n",
       "      <td>314</td>\n",
       "      <td>7</td>\n",
       "      <td>6</td>\n",
       "      <td>6</td>\n",
       "      <td>7</td>\n",
       "      <td>1</td>\n",
       "      <td>92</td>\n",
       "      <td>86</td>\n",
       "      <td>5</td>\n",
       "      <td>3542</td>\n",
       "      <td>C</td>\n",
       "      <td>C</td>\n",
       "    </tr>\n",
       "    <tr>\n",
       "      <th>1817</th>\n",
       "      <td>343</td>\n",
       "      <td>5</td>\n",
       "      <td>3</td>\n",
       "      <td>3</td>\n",
       "      <td>4</td>\n",
       "      <td>1</td>\n",
       "      <td>113</td>\n",
       "      <td>81</td>\n",
       "      <td>1</td>\n",
       "      <td>3090</td>\n",
       "      <td>D</td>\n",
       "      <td>D</td>\n",
       "    </tr>\n",
       "    <tr>\n",
       "      <th>251</th>\n",
       "      <td>335</td>\n",
       "      <td>8</td>\n",
       "      <td>6</td>\n",
       "      <td>5</td>\n",
       "      <td>7</td>\n",
       "      <td>0</td>\n",
       "      <td>0</td>\n",
       "      <td>75</td>\n",
       "      <td>4</td>\n",
       "      <td>4316</td>\n",
       "      <td>C</td>\n",
       "      <td>C</td>\n",
       "    </tr>\n",
       "    <tr>\n",
       "      <th>2505</th>\n",
       "      <td>291</td>\n",
       "      <td>9</td>\n",
       "      <td>7</td>\n",
       "      <td>7</td>\n",
       "      <td>9</td>\n",
       "      <td>1</td>\n",
       "      <td>74</td>\n",
       "      <td>110</td>\n",
       "      <td>7</td>\n",
       "      <td>4040</td>\n",
       "      <td>A</td>\n",
       "      <td>A</td>\n",
       "    </tr>\n",
       "    <tr>\n",
       "      <th>...</th>\n",
       "      <td>...</td>\n",
       "      <td>...</td>\n",
       "      <td>...</td>\n",
       "      <td>...</td>\n",
       "      <td>...</td>\n",
       "      <td>...</td>\n",
       "      <td>...</td>\n",
       "      <td>...</td>\n",
       "      <td>...</td>\n",
       "      <td>...</td>\n",
       "      <td>...</td>\n",
       "      <td>...</td>\n",
       "    </tr>\n",
       "    <tr>\n",
       "      <th>104</th>\n",
       "      <td>295</td>\n",
       "      <td>7</td>\n",
       "      <td>4</td>\n",
       "      <td>4</td>\n",
       "      <td>6</td>\n",
       "      <td>0</td>\n",
       "      <td>0</td>\n",
       "      <td>113</td>\n",
       "      <td>3</td>\n",
       "      <td>3753</td>\n",
       "      <td>D</td>\n",
       "      <td>D</td>\n",
       "    </tr>\n",
       "    <tr>\n",
       "      <th>2087</th>\n",
       "      <td>317</td>\n",
       "      <td>5</td>\n",
       "      <td>3</td>\n",
       "      <td>3</td>\n",
       "      <td>5</td>\n",
       "      <td>0</td>\n",
       "      <td>0</td>\n",
       "      <td>83</td>\n",
       "      <td>1</td>\n",
       "      <td>2882</td>\n",
       "      <td>D</td>\n",
       "      <td>D</td>\n",
       "    </tr>\n",
       "    <tr>\n",
       "      <th>599</th>\n",
       "      <td>333</td>\n",
       "      <td>9</td>\n",
       "      <td>6</td>\n",
       "      <td>5</td>\n",
       "      <td>7</td>\n",
       "      <td>1</td>\n",
       "      <td>105</td>\n",
       "      <td>109</td>\n",
       "      <td>6</td>\n",
       "      <td>4346</td>\n",
       "      <td>B</td>\n",
       "      <td>B</td>\n",
       "    </tr>\n",
       "    <tr>\n",
       "      <th>1756</th>\n",
       "      <td>310</td>\n",
       "      <td>6</td>\n",
       "      <td>4</td>\n",
       "      <td>3</td>\n",
       "      <td>4</td>\n",
       "      <td>1</td>\n",
       "      <td>99</td>\n",
       "      <td>79</td>\n",
       "      <td>4</td>\n",
       "      <td>3649</td>\n",
       "      <td>D</td>\n",
       "      <td>D</td>\n",
       "    </tr>\n",
       "    <tr>\n",
       "      <th>1323</th>\n",
       "      <td>313</td>\n",
       "      <td>5</td>\n",
       "      <td>2</td>\n",
       "      <td>2</td>\n",
       "      <td>4</td>\n",
       "      <td>1</td>\n",
       "      <td>89</td>\n",
       "      <td>78</td>\n",
       "      <td>1</td>\n",
       "      <td>3422</td>\n",
       "      <td>D</td>\n",
       "      <td>D</td>\n",
       "    </tr>\n",
       "  </tbody>\n",
       "</table>\n",
       "<p>600 rows × 12 columns</p>\n",
       "</div>"
      ],
      "text/plain": [
       "      Area(total)  Trooms  Nbedrooms  Nbwashrooms  Twashrooms  roof  \\\n",
       "1801          350       7          6            5           7     0   \n",
       "1190          314       7          6            6           7     1   \n",
       "1817          343       5          3            3           4     1   \n",
       "251           335       8          6            5           7     0   \n",
       "2505          291       9          7            7           9     1   \n",
       "...           ...     ...        ...          ...         ...   ...   \n",
       "104           295       7          4            4           6     0   \n",
       "2087          317       5          3            3           5     0   \n",
       "599           333       9          6            5           7     1   \n",
       "1756          310       6          4            3           4     1   \n",
       "1323          313       5          2            2           4     1   \n",
       "\n",
       "      Roof(Area)  Lawn(Area)  Nfloors  Expected price Actual Grade  \\\n",
       "1801           0         110        5            4115            C   \n",
       "1190          92          86        5            3542            C   \n",
       "1817         113          81        1            3090            D   \n",
       "251            0          75        4            4316            C   \n",
       "2505          74         110        7            4040            A   \n",
       "...          ...         ...      ...             ...          ...   \n",
       "104            0         113        3            3753            D   \n",
       "2087           0          83        1            2882            D   \n",
       "599          105         109        6            4346            B   \n",
       "1756          99          79        4            3649            D   \n",
       "1323          89          78        1            3422            D   \n",
       "\n",
       "     Predicted Grade  \n",
       "1801               C  \n",
       "1190               C  \n",
       "1817               D  \n",
       "251                C  \n",
       "2505               A  \n",
       "...              ...  \n",
       "104                D  \n",
       "2087               D  \n",
       "599                B  \n",
       "1756               D  \n",
       "1323               D  \n",
       "\n",
       "[600 rows x 12 columns]"
      ]
     },
     "execution_count": 26,
     "metadata": {},
     "output_type": "execute_result"
    }
   ],
   "source": [
    "Pred_df = X_test\n",
    "Pred_df[\"Actual Grade\"]=y_test\n",
    "Pred_df[\"Predicted Grade\"]=svm_linear_pred\n",
    "Pred_df.to_csv(\"Predicted Grade\")  #saving the df in csv format\n",
    "Pred_df                            #Displaying the ddf"
   ]
  },
  {
   "cell_type": "markdown",
   "id": "b8e084af",
   "metadata": {},
   "source": [
    "###### Creating widgets for getting user input"
   ]
  },
  {
   "cell_type": "code",
   "execution_count": 9,
   "id": "c3202837",
   "metadata": {},
   "outputs": [],
   "source": [
    "import ipywidgets as wg\n",
    "from IPython.display import display \n",
    "from ipywidgets import interact\n",
    "import time\n",
    "import threading"
   ]
  },
  {
   "cell_type": "code",
   "execution_count": 10,
   "id": "09e8dfda",
   "metadata": {},
   "outputs": [
    {
     "data": {
      "application/vnd.jupyter.widget-view+json": {
       "model_id": "bc69b85c1a1a4b53be4a52e7f271238d",
       "version_major": 2,
       "version_minor": 0
      },
      "text/plain": [
       "BoundedFloatText(value=325.0, description='Total Area', max=360.0, min=290.0)"
      ]
     },
     "metadata": {},
     "output_type": "display_data"
    },
    {
     "data": {
      "application/vnd.jupyter.widget-view+json": {
       "model_id": "aa233880a29449cc8eb45f735d72a0c6",
       "version_major": 2,
       "version_minor": 0
      },
      "text/plain": [
       "IntSlider(value=7, description='Total Rooms', max=10, min=5)"
      ]
     },
     "metadata": {},
     "output_type": "display_data"
    },
    {
     "data": {
      "application/vnd.jupyter.widget-view+json": {
       "model_id": "eb2fd94fb1034f75806af827366de3ed",
       "version_major": 2,
       "version_minor": 0
      },
      "text/plain": [
       "IntSlider(value=5, description='Bedrooms', max=8, min=2)"
      ]
     },
     "metadata": {},
     "output_type": "display_data"
    },
    {
     "data": {
      "application/vnd.jupyter.widget-view+json": {
       "model_id": "8acf5628f8e141af9874dad1d656105d",
       "version_major": 2,
       "version_minor": 0
      },
      "text/plain": [
       "IntSlider(value=5, description='Attached W/C', max=8, min=1)"
      ]
     },
     "metadata": {},
     "output_type": "display_data"
    },
    {
     "data": {
      "application/vnd.jupyter.widget-view+json": {
       "model_id": "7a557e9ac9f94d1788a1db0da5ecd144",
       "version_major": 2,
       "version_minor": 0
      },
      "text/plain": [
       "IntSlider(value=6, description='Total W/C', max=10, min=2)"
      ]
     },
     "metadata": {},
     "output_type": "display_data"
    },
    {
     "data": {
      "application/vnd.jupyter.widget-view+json": {
       "model_id": "2bfa52cdf0684df2b58404dd1fca94f2",
       "version_major": 2,
       "version_minor": 0
      },
      "text/plain": [
       "Dropdown(description='Roof ?', options=(('YES', 1), ('NO', 0)), value=1)"
      ]
     },
     "metadata": {},
     "output_type": "display_data"
    },
    {
     "data": {
      "application/vnd.jupyter.widget-view+json": {
       "model_id": "5709b7f28b2640368fab68def814491b",
       "version_major": 2,
       "version_minor": 0
      },
      "text/plain": [
       "BoundedFloatText(value=50.0, description='Roof Area', max=120.0)"
      ]
     },
     "metadata": {},
     "output_type": "display_data"
    },
    {
     "data": {
      "application/vnd.jupyter.widget-view+json": {
       "model_id": "4a8ec570caef476280a4f6ee083debf5",
       "version_major": 2,
       "version_minor": 0
      },
      "text/plain": [
       "BoundedFloatText(value=95.0, description='Lawn Area', max=120.0, min=70.0)"
      ]
     },
     "metadata": {},
     "output_type": "display_data"
    },
    {
     "data": {
      "application/vnd.jupyter.widget-view+json": {
       "model_id": "042393b0479a4539bdd033eb8a7355b3",
       "version_major": 2,
       "version_minor": 0
      },
      "text/plain": [
       "IntSlider(value=4, description='Floors', max=7, min=1)"
      ]
     },
     "metadata": {},
     "output_type": "display_data"
    },
    {
     "data": {
      "application/vnd.jupyter.widget-view+json": {
       "model_id": "a760a2db93974ab7ad841e2afa045fd5",
       "version_major": 2,
       "version_minor": 0
      },
      "text/plain": [
       "BoundedFloatText(value=3800.0, description='Price', max=5300.0, min=2500.0)"
      ]
     },
     "metadata": {},
     "output_type": "display_data"
    }
   ],
   "source": [
    "Total_Rooms = wg.IntSlider(value=7,min=5,max=10,step=1,description=\"Total Rooms\")\n",
    "Total_Area = wg.BoundedFloatText(value=325,min=290,max=360,description=\"Total Area\")\n",
    "roof_Area = wg.BoundedFloatText(value=50,min=0,max=120,description=\"Roof Area\")\n",
    "lawn_Area = wg.BoundedFloatText(value=95,min=70,max=120,description=\"Lawn Area\")\n",
    "price = wg.BoundedFloatText(value=3800,min=2500,max=5300,description=\"Price\")\n",
    "floor = wg.IntSlider(value=4,min=1,max=7,step=1,description=\"Floors\")\n",
    "bedroom = wg.IntSlider(value=5,min=2,max=8,step=1,description=\"Bedrooms\")\n",
    "attached_washroom = wg.IntSlider(value=5,min=1,max=8,step=1,description=\"Attached W/C\")\n",
    "total_washroom = wg.IntSlider(value=6,min=2,max=10,step=1,description=\"Total W/C\")\n",
    "roof = wg.Dropdown(options=[('YES',1),('NO',0)],description=\"Roof ?\")\n",
    "done =  wg.Button()\n",
    "display(Total_Area,Total_Rooms,bedroom,attached_washroom,total_washroom,roof,roof_Area,lawn_Area,floor,price)"
   ]
  },
  {
   "cell_type": "code",
   "execution_count": 11,
   "id": "85cbb66a",
   "metadata": {},
   "outputs": [
    {
     "ename": "NameError",
     "evalue": "name 'svm_linear' is not defined",
     "output_type": "error",
     "traceback": [
      "\u001b[1;31m---------------------------------------------------------------------------\u001b[0m",
      "\u001b[1;31mNameError\u001b[0m                                 Traceback (most recent call last)",
      "\u001b[1;32mC:\\Users\\SWARAJ~1\\AppData\\Local\\Temp/ipykernel_22088/9720907.py\u001b[0m in \u001b[0;36m<module>\u001b[1;34m\u001b[0m\n\u001b[0;32m      1\u001b[0m exam = [[Total_Area.value,Total_Rooms.value,bedroom.value,attached_washroom.value,total_washroom.value,\n\u001b[0;32m      2\u001b[0m            roof.value,roof_Area.value,lawn_Area.value,floor.value,price.value]]\n\u001b[1;32m----> 3\u001b[1;33m \u001b[0mprint\u001b[0m\u001b[1;33m(\u001b[0m\u001b[1;34mf\"The Grade of your Property is {svm_linear.predict(exam)[0]}\"\u001b[0m\u001b[1;33m)\u001b[0m\u001b[1;33m\u001b[0m\u001b[1;33m\u001b[0m\u001b[0m\n\u001b[0m",
      "\u001b[1;31mNameError\u001b[0m: name 'svm_linear' is not defined"
     ]
    }
   ],
   "source": [
    "exam = [[Total_Area.value,Total_Rooms.value,bedroom.value,attached_washroom.value,total_washroom.value,\n",
    "           roof.value,roof_Area.value,lawn_Area.value,floor.value,price.value]]\n",
    "print(f\"The Grade of your Property is {svm_linear.predict(exam)[0]}\")\n"
   ]
  },
  {
   "cell_type": "code",
   "execution_count": null,
   "id": "b21ea241",
   "metadata": {},
   "outputs": [],
   "source": [
    "_"
   ]
  }
 ],
 "metadata": {
  "kernelspec": {
   "display_name": "Python 3 (ipykernel)",
   "language": "python",
   "name": "python3"
  },
  "language_info": {
   "codemirror_mode": {
    "name": "ipython",
    "version": 3
   },
   "file_extension": ".py",
   "mimetype": "text/x-python",
   "name": "python",
   "nbconvert_exporter": "python",
   "pygments_lexer": "ipython3",
   "version": "3.9.7"
  }
 },
 "nbformat": 4,
 "nbformat_minor": 5
}
